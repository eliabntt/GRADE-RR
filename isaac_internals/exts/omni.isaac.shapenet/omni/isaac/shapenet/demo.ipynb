{
 "cells": [
  {
   "cell_type": "markdown",
   "metadata": {},
   "source": [
    "# Shapenet Isaac Sim Kit Plugin Example\n",
    "\n",
    "Before you begin, you must make sure that Kit is running and that the omni.isaac.shapenet plugin is enabled.\n",
    "\n",
    "A Video of this demo is here: https://www.youtube.com/watch?v=Vr_W35XxIUE\n",
    "\n",
    "The virtual home used in this demo is on the user server at omni:/Projects/shapenet/demo/Home_01/Home_01_kitchen_bare_lit.usda"
   ]
  },
  {
   "cell_type": "code",
   "execution_count": null,
   "metadata": {},
   "outputs": [],
   "source": [
    "# import and place one model\n",
    "from comm_kit import *\n",
    "\n",
    "comm = setup()\n",
    "command = {}\n",
    "\n",
    "command['omniverseServer'] = 'localhost'\n",
    "#gas campstove\n",
    "command['pos'] = (-26.862, -244.357, 115.225)\n",
    "command['rot'] = ((1.0,0.0,0.0), 90.0)\n",
    "command['scale'] = 0.25\n",
    "command['synsetId'] = '02946921'\n",
    "command['modelId'] = '100c5aee62f1c9b9f54f8416555967'\n",
    "print(comm.post_command(command))\n",
    "command['pos'] = (-42.081, -244.357, 115.225)\n",
    "print(comm.post_command(command))\n",
    "command['pos'] = (-62.362, -244.357, 115.225)\n",
    "print(comm.post_command(command))\n"
   ]
  },
  {
   "cell_type": "code",
   "execution_count": null,
   "metadata": {
    "scrolled": true
   },
   "outputs": [],
   "source": [
    "# import and place one model\n",
    "from comm_kit import *\n",
    "\n",
    "comm = setup()\n",
    "command = {}\n",
    "#lawn chair\n",
    "command['pos'] = (-18.794, -746.935, 45.574)\n",
    "command['rot'] = ((1.0,0.0,0.0), 90.0)\n",
    "command['scale'] = 1.0\n",
    "command['synsetId'] = '03001627'\n",
    "command['modelId'] = '901cab3f56c74894d7f7a4c4609b0913'\n",
    "print(comm.post_command(command))\n",
    "command['pos'] = (-70.91, -753.962, 47.522)\n",
    "print(comm.post_command(command))\n",
    "command['pos'] = (-135.672, -746.935, 47.522)\n",
    "print(comm.post_command(command))"
   ]
  },
  {
   "cell_type": "code",
   "execution_count": null,
   "metadata": {},
   "outputs": [],
   "source": [
    "# import and place one model\n",
    "from comm_kit import *\n",
    "\n",
    "comm = setup()\n",
    "command = {}\n",
    "#Egg chair\n",
    "command['pos'] = (46.861, -884.945, 45.574)\n",
    "command['rot'] = ((0.9702875,0.1710879,0.1710879), 91.7279)\n",
    "command['scale'] = 1.18\n",
    "command['synsetId'] = '03001627'\n",
    "command['modelId'] = '79fd9633635ab7f6490ad276cd2af3a4'\n",
    "print(comm.post_command(command))\n",
    "command['pos'] = (-308.325, -884.945, 45.574)\n",
    "command['rot'] = ((0.9702875,-0.1710879,-0.1710879), 91.7279)\n",
    "print(comm.post_command(command))"
   ]
  },
  {
   "cell_type": "markdown",
   "metadata": {},
   "source": [
    "Below this is examples and practice for asyncio and or threading \n",
    "TODO Delete all this crap before external realse"
   ]
  },
  {
   "cell_type": "code",
   "execution_count": null,
   "metadata": {
    "scrolled": false
   },
   "outputs": [],
   "source": [
    "# import and place one model\n",
    "from comm_kit import *\n",
    "\n",
    "comm = setup()\n",
    "command = {}\n",
    "# wooden thrown armchair\n",
    "command['pos'] = (10.994, -602.057, 39.702)\n",
    "command['rot'] = ((0.5773503,0.5773503,0.5773503), 120)\n",
    "command['scale'] = 1.24\n",
    "command['synsetId'] = '03001627'\n",
    "command['modelId'] = '7217176942b8fb42fa7b9a6c80e4e324'\n",
    "print(comm.post_command(command))\n",
    "command['pos'] = (-153.1, -602.057, 39.702)\n",
    "command['rot'] = ((0.5773503,-0.5773503,-0.5773503), 120)\n",
    "print(comm.post_command(command))"
   ]
  },
  {
   "cell_type": "code",
   "execution_count": null,
   "metadata": {},
   "outputs": [],
   "source": [
    "# import and place one model\n",
    "from comm_kit import *\n",
    "\n",
    "comm = setup()\n",
    "command = {}\n",
    "# tiki chair\n",
    "command['scale'] = 1.0\n",
    "command['pos'] = (17.004, -485.556, 51.759)\n",
    "command['rot'] = ((0.5773503,0.5773503,0.5773503), 120)\n",
    "command['synsetId'] = '03001627'\n",
    "command['modelId'] = '8af802214afcb014bd15bdbf03199e85'\n",
    "print(comm.post_command(command))\n",
    "command['pos'] = (-71.175, -442.703, 51.759)\n",
    "command['rot'] = ((0,0.7071068,0.7071068), 180)\n",
    "print(comm.post_command(command))\n",
    "command['pos'] = (-153.806, -485.556, 51.759)\n",
    "command['rot'] = ((0.5773503,-0.5773503,-0.5773503), 120)\n",
    "print(comm.post_command(command))"
   ]
  },
  {
   "cell_type": "code",
   "execution_count": null,
   "metadata": {},
   "outputs": [],
   "source": [
    "# import and place one model\n",
    "from comm_kit import *\n",
    "\n",
    "comm = setup()\n",
    "command = {}\n",
    "# Folding Table\n",
    "command['scale'] = 2.33\n",
    "command['pos'] = (-80.733, -701.981, 55.022)\n",
    "command['rot'] = ((1.0, 0.0, 0.0), 90.0)\n",
    "command['synsetId'] = '04379243'\n",
    "command['modelId'] = '57364a6bcfdd730f166ddaef2c2c61ae'\n",
    "print(comm.post_command(command))"
   ]
  },
  {
   "cell_type": "code",
   "execution_count": null,
   "metadata": {},
   "outputs": [],
   "source": [
    "# import and place one model\n",
    "from comm_kit import *\n",
    "\n",
    "comm = setup()\n",
    "command = {}\n",
    "# Diamond Wood Table\n",
    "command['scale'] = 1.740\n",
    "command['pos'] = (-71.004, -583.199, 52.872)\n",
    "command['rot'] = ((0.5773503,-0.5773503,-0.5773503), 120)\n",
    "command['synsetId'] = '04379243'\n",
    "command['modelId'] = '9b7352c3a8d69c2a1185ac82ed4da80d'\n",
    "print(comm.post_command(command))"
   ]
  },
  {
   "cell_type": "code",
   "execution_count": null,
   "metadata": {},
   "outputs": [],
   "source": [
    "# import and place one model\n",
    "from comm_kit import *\n",
    "\n",
    "comm = setup()\n",
    "command = {}\n",
    "# cooler cup\n",
    "cup_x = -92.123\n",
    "cup_y = -638.400\n",
    "cup_z = 61.705\n",
    "command['rot'] = ((1.0, 0.0, 0.0), 90)\n",
    "command['scale'] = 0.13940\n",
    "command['synsetId'] = '03797390'\n",
    "command['modelId'] = '6c04c2eac973936523c841f9d5051936'\n",
    "for i in range(7):\n",
    "    for j in range(6):\n",
    "        command['pos'] = (pos_x + 6.0*j, pos_y + 10.0*i, pos_z)\n",
    "        print(comm.post_command(command))"
   ]
  },
  {
   "cell_type": "code",
   "execution_count": null,
   "metadata": {},
   "outputs": [],
   "source": [
    "THE END OF DEMO LOADING"
   ]
  }
 ],
 "metadata": {
  "kernelspec": {
   "display_name": "Python 3",
   "language": "python",
   "name": "python3"
  },
  "language_info": {
   "codemirror_mode": {
    "name": "ipython",
    "version": 3
   },
   "file_extension": ".py",
   "mimetype": "text/x-python",
   "name": "python",
   "nbconvert_exporter": "python",
   "pygments_lexer": "ipython3",
   "version": "3.7.4"
  }
 },
 "nbformat": 4,
 "nbformat_minor": 2
}