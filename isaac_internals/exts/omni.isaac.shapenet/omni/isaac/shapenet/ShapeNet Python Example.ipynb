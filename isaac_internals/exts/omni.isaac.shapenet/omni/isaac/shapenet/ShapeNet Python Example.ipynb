{
 "cells": [
  {
   "cell_type": "markdown",
   "metadata": {},
   "source": [
    "# Shapenet Isaac Sim Kit Plugin Example\n",
    "\n",
    "Before you begin, you must make sure that Kit is running and that the omni.shapenet plugin is enabled."
   ]
  },
  {
   "cell_type": "code",
   "execution_count": null,
   "metadata": {},
   "outputs": [],
   "source": [
    "# import and place one model\n",
    "from comm_kit import *\n",
    "\n",
    "comm = setup()\n",
    "command = {}\n",
    "\n",
    "command['omniverseServer'] = 'localhost'\n",
    "command['synsetId'] = '02691156'\n",
    "command['modelId'] = 'dd9ece07d4bc696c2bafe808edd44356'\n",
    "# The following command components are optional\n",
    "command['pos'] = (10.0, 11.0, 120.0)\n",
    "command['rot'] = ((0.0,0.0,1.0), 90.0)\n",
    "command['scale'] = 1.1\n",
    "command['auto_add_physics'] = 0 # 1 if you want to add physics to the shapenet object.\n",
    "command['use_convex_decomp'] = 0 # 1 if you want to break complex shapes into pieces, for more accurate collisions.\n",
    "command['do_not_place'] = 0 # 1 if you want to only convert and skip placing the shape in kit's current stage.\n",
    "command['g_omni_shape_loc'] = \"/Projects/shapenet\" # This is where the converted files are placed, if they don't\n",
    "                                                        # already exist on the server.  Or pulled from if they do.\n",
    "command['g_local_shape_loc'] = \"F:/shapenet/ShapeNetCorev2\" # This is the local hard drive location used where the obj\n",
    "                                                            # obj files that are converted are kept.  This should just\n",
    "                                                            # be a local copy of the original shapenet core 2\n",
    "command['g_root_usd_namespace_path'] = \"/shapenet\" # this is the prim path in the scene used to store the models.\n",
    "\n",
    "\n",
    "print(comm.post_command(command))\n"
   ]
  }
 ],
 "metadata": {
  "kernelspec": {
   "display_name": "Python 3",
   "language": "python",
   "name": "python3"
  },
  "language_info": {
   "codemirror_mode": {
    "name": "ipython",
    "version": 3
   },
   "file_extension": ".py",
   "mimetype": "text/x-python",
   "name": "python",
   "nbconvert_exporter": "python",
   "pygments_lexer": "ipython3",
   "version": "3.7.4"
  }
 },
 "nbformat": 4,
 "nbformat_minor": 2
}